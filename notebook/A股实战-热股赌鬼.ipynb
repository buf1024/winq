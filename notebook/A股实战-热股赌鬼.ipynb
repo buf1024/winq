{
 "cells": [
  {
   "cell_type": "markdown",
   "metadata": {},
   "source": [
    "**热股赌鬼**\n",
    "\n",
    "\n",
    "### 实战\n",
    "策略在9:25运行，热股100之中，竞价是上涨的，赌当天涨，隔天同时是9:25卖。\n",
    "\n",
    "竞价阶段突然飙升的，不行。有阶段升才是最值得入手的。上龙虎榜的，不要。\n",
    "\n",
    "\n"
   ]
  },
  {
   "cell_type": "code",
   "execution_count": 1,
   "metadata": {},
   "outputs": [],
   "source": [
    "from winq import *\n",
    "import os\n",
    "from winq.selector.game.stock_hot import *\n",
    "from datetime import datetime\n",
    "import akshare as ak\n",
    "\n",
    "db = default(log_level='info')\n",
    "\n",
    "base_path = '/Users/luoguochun/Downloads/stock/hot_game'\n",
    "base_path_trade = '/Users/luoguochun/Downloads/stock/hot_game/trade'\n",
    "base_path_hot = '/Users/luoguochun/Downloads/stock/hot_game/hot100'\n",
    "\n",
    "def hot_ths_codes(limit=200):\n",
    "    date = datetime.now().strftime('%Y%m%d')\n",
    "    stocks = ak.stock_hot_rank_wc(date=date)\n",
    "    stocks = stocks.iloc[0:limit]\n",
    "    \n",
    "    codes = []\n",
    "    for c in filter(lambda x: not x.startswith('8'), stocks['股票代码']):\n",
    "        if c.startswith('6'):\n",
    "            codes.append('sh'+c)\n",
    "        else:\n",
    "            codes.append('sz'+c)\n",
    "    return codes"
   ]
  },
  {
   "cell_type": "code",
   "execution_count": 2,
   "metadata": {},
   "outputs": [
    {
     "name": "stderr",
     "output_type": "stream",
     "text": [
      "                                               \r"
     ]
    }
   ],
   "source": [
    "ths_codes = hot_ths_codes()"
   ]
  },
  {
   "cell_type": "code",
   "execution_count": 3,
   "metadata": {},
   "outputs": [
    {
     "name": "stderr",
     "output_type": "stream",
     "text": [
      "处理 sh605162: 100%|██████████| 200/200 [00:53<00:00,  3.71it/s]\n"
     ]
    },
    {
     "data": {
      "text/html": [
       "<style  type=\"text/css\" >\n",
       "#T_e3786cf0_1a0a_11ee_965b_186590d57a6brow0_col0,#T_e3786cf0_1a0a_11ee_965b_186590d57a6brow0_col1,#T_e3786cf0_1a0a_11ee_965b_186590d57a6brow0_col2,#T_e3786cf0_1a0a_11ee_965b_186590d57a6brow0_col3,#T_e3786cf0_1a0a_11ee_965b_186590d57a6brow0_col4,#T_e3786cf0_1a0a_11ee_965b_186590d57a6brow0_col5,#T_e3786cf0_1a0a_11ee_965b_186590d57a6brow0_col6,#T_e3786cf0_1a0a_11ee_965b_186590d57a6brow1_col0,#T_e3786cf0_1a0a_11ee_965b_186590d57a6brow1_col1,#T_e3786cf0_1a0a_11ee_965b_186590d57a6brow1_col2,#T_e3786cf0_1a0a_11ee_965b_186590d57a6brow1_col3,#T_e3786cf0_1a0a_11ee_965b_186590d57a6brow1_col4,#T_e3786cf0_1a0a_11ee_965b_186590d57a6brow1_col5,#T_e3786cf0_1a0a_11ee_965b_186590d57a6brow1_col6{\n",
       "            text-align:  left;\n",
       "            white-space:  pre-wrap;\n",
       "        }</style><table id=\"T_e3786cf0_1a0a_11ee_965b_186590d57a6b\" ><thead>    <tr>        <th class=\"blank level0\" ></th>        <th class=\"col_heading level0 col0\" >code</th>        <th class=\"col_heading level0 col1\" >name</th>        <th class=\"col_heading level0 col2\" >chg_pct</th>        <th class=\"col_heading level0 col3\" >last_chg_pct</th>        <th class=\"col_heading level0 col4\" >industry</th>        <th class=\"col_heading level0 col5\" >rank</th>        <th class=\"col_heading level0 col6\" >concept</th>    </tr></thead><tbody>\n",
       "                <tr>\n",
       "                        <th id=\"T_e3786cf0_1a0a_11ee_965b_186590d57a6blevel0_row0\" class=\"row_heading level0 row0\" >0</th>\n",
       "                        <td id=\"T_e3786cf0_1a0a_11ee_965b_186590d57a6brow0_col0\" class=\"data row0 col0\" >sh600111</td>\n",
       "                        <td id=\"T_e3786cf0_1a0a_11ee_965b_186590d57a6brow0_col1\" class=\"data row0 col1\" >XD北方稀</td>\n",
       "                        <td id=\"T_e3786cf0_1a0a_11ee_965b_186590d57a6brow0_col2\" class=\"data row0 col2\" >2.154104</td>\n",
       "                        <td id=\"T_e3786cf0_1a0a_11ee_965b_186590d57a6brow0_col3\" class=\"data row0 col3\" >0.670000</td>\n",
       "                        <td id=\"T_e3786cf0_1a0a_11ee_965b_186590d57a6brow0_col4\" class=\"data row0 col4\" >小金属</td>\n",
       "                        <td id=\"T_e3786cf0_1a0a_11ee_965b_186590d57a6brow0_col5\" class=\"data row0 col5\" >79</td>\n",
       "                        <td id=\"T_e3786cf0_1a0a_11ee_965b_186590d57a6brow0_col6\" class=\"data row0 col6\" >稀缺资源,锂电池,小金属概念\n",
       ",稀土永磁,新材料\n",
       ",国企改革</td>\n",
       "            </tr>\n",
       "            <tr>\n",
       "                        <th id=\"T_e3786cf0_1a0a_11ee_965b_186590d57a6blevel0_row1\" class=\"row_heading level0 row1\" >1</th>\n",
       "                        <td id=\"T_e3786cf0_1a0a_11ee_965b_186590d57a6brow1_col0\" class=\"data row1 col0\" >sh601919</td>\n",
       "                        <td id=\"T_e3786cf0_1a0a_11ee_965b_186590d57a6brow1_col1\" class=\"data row1 col1\" >中远海控</td>\n",
       "                        <td id=\"T_e3786cf0_1a0a_11ee_965b_186590d57a6brow1_col2\" class=\"data row1 col2\" >1.997894</td>\n",
       "                        <td id=\"T_e3786cf0_1a0a_11ee_965b_186590d57a6brow1_col3\" class=\"data row1 col3\" >1.170000</td>\n",
       "                        <td id=\"T_e3786cf0_1a0a_11ee_965b_186590d57a6brow1_col4\" class=\"data row1 col4\" >航运港口</td>\n",
       "                        <td id=\"T_e3786cf0_1a0a_11ee_965b_186590d57a6brow1_col5\" class=\"data row1 col5\" >124</td>\n",
       "                        <td id=\"T_e3786cf0_1a0a_11ee_965b_186590d57a6brow1_col6\" class=\"data row1 col6\" >国企改革,破净股,2025规划\n",
       ",海洋经济,中特估,央企改革\n",
       ",一带一路</td>\n",
       "            </tr>\n",
       "    </tbody></table>"
      ],
      "text/plain": [
       "<pandas.io.formats.style.Styler at 0x1209b92b0>"
      ]
     },
     "metadata": {},
     "output_type": "display_data"
    }
   ],
   "source": [
    "hot_codes = ths_codes\n",
    "trade_date, hot_codes, hot_quot, result_df = await hot_game(db, hot_codes=hot_codes)\n",
    "pretty_df(result_df)"
   ]
  },
  {
   "cell_type": "code",
   "execution_count": 4,
   "metadata": {},
   "outputs": [
    {
     "name": "stdout",
     "output_type": "stream",
     "text": [
      "Empty 20cm set.\n"
     ]
    }
   ],
   "source": [
    "result_df_20cm = result_df[result_df['code'].str.startswith('sh68') | result_df['code'].str.startswith('sz30')]\n",
    "if len(result_df_20cm) >0:\n",
    "    pretty_df(result_df_20cm)\n",
    "else:\n",
    "    print('Empty 20cm set.')"
   ]
  },
  {
   "cell_type": "code",
   "execution_count": 4,
   "metadata": {},
   "outputs": [
    {
     "name": "stdout",
     "output_type": "stream",
     "text": [
      "save ok\n"
     ]
    }
   ],
   "source": [
    "trade_date_str = trade_date.strftime('%Y%m%d')\n",
    "path = '{}/{}'.format(base_path, trade_date_str)\n",
    "\n",
    "if not os.path.exists(path):\n",
    "    os.mkdir(path)\n",
    "    \n",
    "\n",
    "# hot_codes\n",
    "with open('{}/{}.txt'.format(base_path_hot, trade_date_str), 'w') as f:\n",
    "    f.write(','.join([code[2:] for code in hot_codes]))\n",
    "    \n",
    "with open('{}/{}_20cm.txt'.format(base_path_hot, trade_date_str), 'w') as f:\n",
    "    f.write(','.join([code[2:] for code in hot_codes if code.startswith('sh68') or code.startswith('sz30')]))\n",
    "    \n",
    "for key, value in hot_quot.items():\n",
    "    with open('{}/{}.txt'.format(path, key), 'w') as f:\n",
    "        f.write(value.to_json())\n",
    "\n",
    "if len(result_df) > 0:\n",
    "    index_code = ['000001', '399106', '399006', '000688', 'CN00Y']\n",
    "    result_export_all = [code[2:] for code in list(result_df['code'].values)]\n",
    "    result_export_20cm = [code for code in result_export_all if code.startswith('68') or code.startswith('30')]\n",
    "    \n",
    "#     if len(result_export_all) > 0:\n",
    "#         result_export_all.extend(index_code)\n",
    "        \n",
    "#     if len(result_export_20cm) > 0:\n",
    "#         result_export_20cm.extend(index_code)\n",
    "    \n",
    "    ## trade result\n",
    "    with open('{}/{}.txt'.format(base_path_trade, trade_date_str), 'w') as f:\n",
    "        f.write(','.join(result_export_all))\n",
    "\n",
    "    with open('{}/{}_20cm.txt'.format(base_path_trade, trade_date_str), 'w') as f:\n",
    "        f.write(','.join(result_export_20cm))\n",
    "\n",
    "print('save ok')"
   ]
  },
  {
   "cell_type": "code",
   "execution_count": 6,
   "metadata": {},
   "outputs": [
    {
     "name": "stdout",
     "output_type": "stream",
     "text": [
      "done\n"
     ]
    }
   ],
   "source": [
    "result_export_all = [code[2:] for code in list(result_df['code'].values)]\n",
    "result_export_20cm = [code for code in result_export_all if code.startswith('68') or code.startswith('30')]\n",
    "\n",
    "with open('/Users/luoguochun/Downloads/{}.txt'.format(trade_date_str), 'w') as f:\n",
    "    f.write(','.join(result_export_all))\n",
    "print('done')"
   ]
  },
  {
   "cell_type": "code",
   "execution_count": 2,
   "metadata": {},
   "outputs": [
    {
     "name": "stderr",
     "output_type": "stream",
     "text": [
      "                                               \r"
     ]
    }
   ],
   "source": [
    "ths_codes = hot_ths_codes()"
   ]
  },
  {
   "cell_type": "code",
   "execution_count": 3,
   "metadata": {},
   "outputs": [],
   "source": [
    "with open('/Users/luoguochun/Downloads/a.txt', 'w') as f:\n",
    "    f.write(','.join([code[2:] for code in ths_codes]))"
   ]
  },
  {
   "cell_type": "code",
   "execution_count": null,
   "metadata": {},
   "outputs": [],
   "source": []
  }
 ],
 "metadata": {
  "kernelspec": {
   "display_name": "Python 3",
   "language": "python",
   "name": "python3"
  },
  "language_info": {
   "codemirror_mode": {
    "name": "ipython",
    "version": 3
   },
   "file_extension": ".py",
   "mimetype": "text/x-python",
   "name": "python",
   "nbconvert_exporter": "python",
   "pygments_lexer": "ipython3",
   "version": "3.9.0"
  }
 },
 "nbformat": 4,
 "nbformat_minor": 4
}
